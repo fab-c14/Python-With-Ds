{
 "cells": [
  {
   "cell_type": "code",
   "execution_count": 13,
   "metadata": {},
   "outputs": [
    {
     "name": "stdout",
     "output_type": "stream",
     "text": [
      "this is my text\n"
     ]
    }
   ],
   "source": [
    "# Logging and Debugger\n",
    "print(\"this is my text\")\n",
    "# we use logging to see where our program reached or which part of code was executed and which was not ,logging is helpful in debugging"
   ]
  },
  {
   "cell_type": "code",
   "execution_count": 14,
   "metadata": {},
   "outputs": [],
   "source": [
    "import logging"
   ]
  },
  {
   "cell_type": "code",
   "execution_count": 15,
   "metadata": {},
   "outputs": [],
   "source": [
    "# basic configuration\n",
    "\n",
    "# logging.basicConfig(filename=\"test.log\",level=logging.INFO) # file to where log\n",
    "#2nd parameter is level there are multiple levels of logging, like info,warning,error,debug...etc"
   ]
  },
  {
   "cell_type": "code",
   "execution_count": 16,
   "metadata": {},
   "outputs": [],
   "source": [
    "# logging.info(\"log this line of execution\")"
   ]
  },
  {
   "cell_type": "code",
   "execution_count": 17,
   "metadata": {},
   "outputs": [],
   "source": [
    "# logging.info(\"this is my print\")\n",
    "# if anyone wants to investigate he can use log file"
   ]
  },
  {
   "cell_type": "code",
   "execution_count": 18,
   "metadata": {},
   "outputs": [],
   "source": [
    "# what does info means, logging has multiple levels\n",
    "# NOTSET\n",
    "# DEBUG\n",
    "# INFO\n",
    "# WARNING\n",
    "# ERROR\n",
    "# CRITICAL \n",
    "# these are 6 levels of logging, if we have info level then below it we can log, and above it levels which we can not log"
   ]
  },
  {
   "cell_type": "code",
   "execution_count": 19,
   "metadata": {},
   "outputs": [],
   "source": [
    "# logging.debug(\"this is my log with level debug\") # not in log files because my level is info"
   ]
  },
  {
   "cell_type": "code",
   "execution_count": 20,
   "metadata": {},
   "outputs": [],
   "source": [
    "# logging.warning(\"this is my warning message\")"
   ]
  },
  {
   "cell_type": "code",
   "execution_count": 21,
   "metadata": {},
   "outputs": [],
   "source": [
    "# logging.error(\"this is my error\")\n"
   ]
  },
  {
   "cell_type": "code",
   "execution_count": 22,
   "metadata": {},
   "outputs": [],
   "source": [
    "# logging.critical(\"this is critical message/error\")\n",
    "# before we use new logging file \n",
    "# shutdown prev file \n",
    "# logging.shutdown()"
   ]
  },
  {
   "cell_type": "code",
   "execution_count": 2,
   "metadata": {},
   "outputs": [],
   "source": [
    "import logging\n",
    "logging.basicConfig(filename=\"test1.log\",level=logging.DEBUG, format='%(asctime)s %(message)s') # format is the log file format , s is for string format"
   ]
  },
  {
   "cell_type": "code",
   "execution_count": 24,
   "metadata": {},
   "outputs": [],
   "source": [
    "logging.info(\"this is my info logging\")\n",
    "logging.error(\"this is my error message\")\n",
    "logging.critical(\"critical message\")"
   ]
  },
  {
   "cell_type": "code",
   "execution_count": 25,
   "metadata": {},
   "outputs": [],
   "source": [
    "logging.shutdown()"
   ]
  },
  {
   "cell_type": "code",
   "execution_count": 1,
   "metadata": {},
   "outputs": [],
   "source": [
    "import logging\n",
    "logging.basicConfig(filename=\"test2.log\",level=logging.DEBUG,format='%(asctime)s %(name)s %(levelname)s %(message)s')"
   ]
  },
  {
   "cell_type": "code",
   "execution_count": 3,
   "metadata": {},
   "outputs": [],
   "source": [
    "logging.info(\"this is my info logging\")\n",
    "logging.error(\"this is my error message\")\n",
    "logging.critical(\"critical message\")"
   ]
  },
  {
   "cell_type": "code",
   "execution_count": 4,
   "metadata": {},
   "outputs": [],
   "source": [
    "# LETS SEE PRACTICAL EXAMPLE"
   ]
  },
  {
   "cell_type": "code",
   "execution_count": 5,
   "metadata": {},
   "outputs": [],
   "source": [
    "l = [1,2,3,34,4,[2,3,4],\"Faisal\",\"Sudh\"]"
   ]
  },
  {
   "cell_type": "code",
   "execution_count": 17,
   "metadata": {},
   "outputs": [],
   "source": [
    "# lets impliment logging module here\n",
    "l1_int = []\n",
    "l2_str = []\n",
    "\n",
    "for i in l:\n",
    "    logging.info(\"we are iterating through our list and our local variable is i {}\".format(l))\n",
    "    if type(i) == list:\n",
    "        logging.info(\"i am inside if statement and i am trying to check list type\" + str(i))\n",
    "        for j in i:\n",
    "            logging.info(\"i am inside another for loop for list inside list element\")\n",
    "            if type(j) == int:\n",
    "                logging.info(\"i am inside if statement to check j\" + str(j))\n",
    "                l1_int.append(j)\n",
    "    elif type(i) == int:\n",
    "        l1_int.append(i)\n",
    "    if type(i) == str:\n",
    "        l2_str.append(i)\n",
    "logging.info(\"my final result for int is {l1} and str is {l2}\".format(l1=l1_int,l2=l2_str))"
   ]
  },
  {
   "cell_type": "code",
   "execution_count": 9,
   "metadata": {},
   "outputs": [
    {
     "data": {
      "text/plain": [
       "[1, 2, 3, 34, 4, 2, 3, 4]"
      ]
     },
     "execution_count": 9,
     "metadata": {},
     "output_type": "execute_result"
    }
   ],
   "source": [
    "l1_int"
   ]
  },
  {
   "cell_type": "code",
   "execution_count": 10,
   "metadata": {},
   "outputs": [
    {
     "data": {
      "text/plain": [
       "['Faisal', 'Sudh']"
      ]
     },
     "execution_count": 10,
     "metadata": {},
     "output_type": "execute_result"
    }
   ],
   "source": [
    "l2_str"
   ]
  },
  {
   "cell_type": "code",
   "execution_count": null,
   "metadata": {},
   "outputs": [],
   "source": []
  }
 ],
 "metadata": {
  "kernelspec": {
   "display_name": "Python 3",
   "language": "python",
   "name": "python3"
  },
  "language_info": {
   "codemirror_mode": {
    "name": "ipython",
    "version": 3
   },
   "file_extension": ".py",
   "mimetype": "text/x-python",
   "name": "python",
   "nbconvert_exporter": "python",
   "pygments_lexer": "ipython3",
   "version": "3.10.8"
  }
 },
 "nbformat": 4,
 "nbformat_minor": 2
}
